{
 "cells": [
  {
   "cell_type": "markdown",
   "metadata": {},
   "source": [
    "# Create 3D maps in ArcGIS Pro with Lidar data\n",
    "ArcGIS Pro Python script to process LAS and NAIP layers in preparation for 3D analysis and visualization. This script is for Kentucky, y'all!"
   ]
  },
  {
   "cell_type": "code",
   "execution_count": 1,
   "metadata": {},
   "outputs": [],
   "source": [
    "# Import ArcGIS package\n",
    "import arcpy\n",
    "\n",
    "# Subprocess allows us to issue commands on the command line\n",
    "import subprocess\n",
    "\n",
    "# Module to download files with an URL\n",
    "from urllib.request import urlretrieve\n",
    "\n",
    "# Zip utlity to extract files\n",
    "from zipfile import ZipFile\n",
    "\n",
    "# Utility to compress folder\n",
    "import shutil\n",
    "\n",
    "# pandas to view table and possibly analyze data in the future?\n",
    "import pandas as pd"
   ]
  },
  {
   "cell_type": "markdown",
   "metadata": {},
   "source": [
    "## Instructions\n",
    "\n",
    "* Pick a location anywhere in Kentucky and drop a point in ArcGIS.\n",
    "* Download and extract [download_grids.gdb.zip](https://uky-gis.github.io/support/python-arcgis/pointcloud_extract/download_grids.gdb.zip)\n",
    "* Download the laszip64.exe utility\n",
    "\n",
    "## Example\n",
    "\n",
    "![Cumberland Falls](https://uky-gis.github.io/support/python-arcgis/pointcloud_extract/cufa.gif)\n"
   ]
  },
  {
   "cell_type": "code",
   "execution_count": 2,
   "metadata": {},
   "outputs": [],
   "source": [
    "### SET EXISTING LOCATIONS FOR DATA ###\n",
    "\n",
    "# Exisiting directory for project. This is were everything thing will placed!\n",
    "out_directory = \"z:\\\\BoydsGIS\\\\KYLakes\\\\\"\n",
    "\n",
    "# Locations of index grids \n",
    "las_grid = \"z:\\\\BoydsGIS\\\\data\\\\download_grids.gdb\\\\KY_5k_PointClound_grid\"\n",
    "naip_grid = \"z:\\\\BoydsGIS\\\\data\\\\download_grids.gdb\\\\Kentucky_10K_NAIP\"\n",
    "\n",
    "# NAIP files we are downloadings\n",
    "naip_prefix = \"ky_2ft_naip_2016_\"\n",
    "\n",
    "# Where is the directory with the laszip64.exe\n",
    "las_tools = \"z:\\\\BoydsGIS\\\\data\\\\lidar\\\\laszip64.exe\""
   ]
  },
  {
   "cell_type": "code",
   "execution_count": 3,
   "metadata": {},
   "outputs": [],
   "source": [
    "### SET NAMES and VALUES for NEW CONTENT ###\n",
    "\n",
    "# Create project name - creates a folder in project directory\n",
    "project = \"cumberland\"\n",
    "\n",
    "# Create name of point layer and buffer distance from point\n",
    "point_name = \"cumberland_pt\"\n",
    "buffer_distance = 1000\n",
    "\n",
    "# Create name of output geodatabase name\n",
    "out_geodb = \"workspace.gdb\"\n",
    "\n",
    "# Create name of downloads folder\n",
    "downloads = f'{out_directory}{project}\\\\downloads\\\\'\n",
    "lidar = f'{out_directory}{project}\\\\lidar\\\\'\n",
    "lidar_extract = f'{out_directory}{project}\\\\lidar_extract\\\\'\n",
    "lidar_color = f'{out_directory}{project}\\\\lidar_color\\\\'\n",
    "\n",
    "# LAS dataset name and defauly ground class codes\n",
    "las_dataset = f'{lidar}{project}.lasd'\n",
    "las_ground = [2]\n",
    "\n",
    "# Ouput folder name for contours\n",
    "out_shp = \"shapefiles\"\n",
    "\n",
    "# Output parameters for contours\n",
    "contour_interval = 10\n",
    "contour_index = 100\n",
    "contour_name = f\"contour_{contour_interval}ft\""
   ]
  },
  {
   "cell_type": "code",
   "execution_count": 4,
   "metadata": {
    "scrolled": false
   },
   "outputs": [
    {
     "name": "stdout",
     "output_type": "stream",
     "text": [
      " Volume in drive Z is Shared Folders\r\n",
      " Volume Serial Number is 0000-0000\r\n",
      "\r\n",
      " Directory of z:\\BoydsGIS\\KYLakes\\cumberland\r\n",
      "\r\n",
      "04/26/19  09:58 AM    <DIR>          downloads\r\n",
      "04/26/19  09:58 AM    <DIR>          lidar\r\n",
      "04/26/19  09:58 AM    <DIR>          lidar_color\r\n",
      "04/26/19  09:58 AM    <DIR>          lidar_extract\r\n",
      "04/26/19  09:58 AM    <DIR>          shapefiles\r\n",
      "               0 File(s)              0 bytes\r\n",
      "               5 Dir(s)  727,868,899,328 bytes free\r\n",
      "\n",
      "z: \r\n",
      "        0 file(s) copied.\r\n",
      "\n"
     ]
    }
   ],
   "source": [
    "# Create folders and copy laszip64.exe\n",
    "subprocess.run(f'mkdir {out_directory}{project}', shell=True)\n",
    "subprocess.run(f'mkdir {out_directory}{project}\\\\downloads', shell=True)\n",
    "subprocess.run(f'mkdir {out_directory}{project}\\\\lidar', shell=True)\n",
    "subprocess.run(f'mkdir {out_directory}{project}\\\\lidar_color', shell=True)\n",
    "subprocess.run(f'mkdir {out_directory}{project}\\\\lidar_extract', shell=True)\n",
    "subprocess.run(f'mkdir {out_directory}{project}\\\\{out_shp}', shell=True)\n",
    "completed = subprocess.run(f'dir {out_directory}{project}', shell=True, stdout=subprocess.PIPE)\n",
    "print(completed.stdout.decode('UTF-8'))\n",
    "completed = subprocess.run(f'copy {las_tools[0]}{las_tools[1]} {downloads}', shell=True, stdout=subprocess.PIPE)\n",
    "print(completed.stdout.decode('UTF-8'))"
   ]
  },
  {
   "cell_type": "code",
   "execution_count": 5,
   "metadata": {},
   "outputs": [
    {
     "data": {
      "text/plain": [
       "<Result 'z:\\\\BoydsGIS\\\\KYLakes\\\\cumberland\\\\workspace.gdb\\\\cumberland_pt'>"
      ]
     },
     "execution_count": 5,
     "metadata": {},
     "output_type": "execute_result"
    }
   ],
   "source": [
    "# Overwrite if exists\n",
    "arcpy.env.overwriteOutput = True\n",
    "\n",
    "# Create project geodatabase\n",
    "arcpy.CreateFileGDB_management(f'{out_directory}{project}', out_geodb)\n",
    "\n",
    "# Create project default geodatabase\n",
    "out_path = f'{out_directory}{project}\\\\{out_geodb}'\n",
    "arcpy.env.workspace = out_path\n",
    "\n",
    "# Create empty point layer\n",
    "spatial_reference = arcpy.Describe(las_grid).spatialReference\n",
    "arcpy.CreateFeatureclass_management(out_path, point_name, \"POINT\", \"#\", \"#\", \"#\", spatial_reference)"
   ]
  },
  {
   "cell_type": "markdown",
   "metadata": {},
   "source": [
    "## Open ArcGIS Pro\n",
    "\n",
    "What location do you want? Edit the empty point layer by dropping a **single** point somewhere in Kentucky. Save the edit."
   ]
  },
  {
   "cell_type": "code",
   "execution_count": 8,
   "metadata": {},
   "outputs": [
    {
     "name": "stdout",
     "output_type": "stream",
     "text": [
      "z:\\BoydsGIS\\KYLakes\\cumberland\\lidar\\N177E264.las\n",
      "z:\\BoydsGIS\\data\\lidar\\laszip64.exe -i z:\\BoydsGIS\\KYLakes\\cumberland\\downloads\\N177E264.laz -o z:\\BoydsGIS\\KYLakes\\cumberland\\lidar\\N177E264.las\n",
      "\n",
      "Creating LAS dataset from ['z:\\\\BoydsGIS\\\\KYLakes\\\\cumberland\\\\lidar\\\\N177E264.las']\n"
     ]
    },
    {
     "data": {
      "text/html": [
       "<div>\n",
       "<style scoped>\n",
       "    .dataframe tbody tr th:only-of-type {\n",
       "        vertical-align: middle;\n",
       "    }\n",
       "\n",
       "    .dataframe tbody tr th {\n",
       "        vertical-align: top;\n",
       "    }\n",
       "\n",
       "    .dataframe thead th {\n",
       "        text-align: right;\n",
       "    }\n",
       "</style>\n",
       "<table border=\"1\" class=\"dataframe\">\n",
       "  <thead>\n",
       "    <tr style=\"text-align: right;\">\n",
       "      <th></th>\n",
       "      <th>Item</th>\n",
       "      <th>Category</th>\n",
       "      <th>Pt_Cnt</th>\n",
       "      <th>Percent</th>\n",
       "      <th>Z_Min</th>\n",
       "      <th>Z_Max</th>\n",
       "      <th>Intensity_Min</th>\n",
       "      <th>Intensity_Max</th>\n",
       "      <th>Synthetic_Pt_Cnt</th>\n",
       "      <th>Range_Min</th>\n",
       "      <th>Range_Max</th>\n",
       "    </tr>\n",
       "  </thead>\n",
       "  <tbody>\n",
       "    <tr>\n",
       "      <th>10</th>\n",
       "      <td>1_Unclassified</td>\n",
       "      <td>ClassCodes</td>\n",
       "      <td>3877126.0</td>\n",
       "      <td>46.86</td>\n",
       "      <td>543.24</td>\n",
       "      <td>1005.11</td>\n",
       "      <td>0.0</td>\n",
       "      <td>255.0</td>\n",
       "      <td>0.0</td>\n",
       "      <td>NaN</td>\n",
       "      <td>NaN</td>\n",
       "    </tr>\n",
       "    <tr>\n",
       "      <th>11</th>\n",
       "      <td>2_Ground</td>\n",
       "      <td>ClassCodes</td>\n",
       "      <td>3740490.0</td>\n",
       "      <td>45.21</td>\n",
       "      <td>543.37</td>\n",
       "      <td>960.07</td>\n",
       "      <td>0.0</td>\n",
       "      <td>255.0</td>\n",
       "      <td>0.0</td>\n",
       "      <td>NaN</td>\n",
       "      <td>NaN</td>\n",
       "    </tr>\n",
       "    <tr>\n",
       "      <th>12</th>\n",
       "      <td>7_Low_Point(noise)</td>\n",
       "      <td>ClassCodes</td>\n",
       "      <td>4200.0</td>\n",
       "      <td>0.05</td>\n",
       "      <td>543.43</td>\n",
       "      <td>937.48</td>\n",
       "      <td>0.0</td>\n",
       "      <td>255.0</td>\n",
       "      <td>0.0</td>\n",
       "      <td>NaN</td>\n",
       "      <td>NaN</td>\n",
       "    </tr>\n",
       "    <tr>\n",
       "      <th>13</th>\n",
       "      <td>9_Water</td>\n",
       "      <td>ClassCodes</td>\n",
       "      <td>647223.0</td>\n",
       "      <td>7.82</td>\n",
       "      <td>542.91</td>\n",
       "      <td>709.70</td>\n",
       "      <td>0.0</td>\n",
       "      <td>255.0</td>\n",
       "      <td>0.0</td>\n",
       "      <td>NaN</td>\n",
       "      <td>NaN</td>\n",
       "    </tr>\n",
       "    <tr>\n",
       "      <th>14</th>\n",
       "      <td>10_Reserved</td>\n",
       "      <td>ClassCodes</td>\n",
       "      <td>4833.0</td>\n",
       "      <td>0.06</td>\n",
       "      <td>543.27</td>\n",
       "      <td>716.35</td>\n",
       "      <td>5.0</td>\n",
       "      <td>153.0</td>\n",
       "      <td>0.0</td>\n",
       "      <td>NaN</td>\n",
       "      <td>NaN</td>\n",
       "    </tr>\n",
       "  </tbody>\n",
       "</table>\n",
       "</div>"
      ],
      "text/plain": [
       "                  Item    Category     Pt_Cnt  Percent   Z_Min    Z_Max  \\\n",
       "10      1_Unclassified  ClassCodes  3877126.0    46.86  543.24  1005.11   \n",
       "11            2_Ground  ClassCodes  3740490.0    45.21  543.37   960.07   \n",
       "12  7_Low_Point(noise)  ClassCodes     4200.0     0.05  543.43   937.48   \n",
       "13             9_Water  ClassCodes   647223.0     7.82  542.91   709.70   \n",
       "14         10_Reserved  ClassCodes     4833.0     0.06  543.27   716.35   \n",
       "\n",
       "    Intensity_Min  Intensity_Max  Synthetic_Pt_Cnt  Range_Min  Range_Max  \n",
       "10            0.0          255.0               0.0        NaN        NaN  \n",
       "11            0.0          255.0               0.0        NaN        NaN  \n",
       "12            0.0          255.0               0.0        NaN        NaN  \n",
       "13            0.0          255.0               0.0        NaN        NaN  \n",
       "14            5.0          153.0               0.0        NaN        NaN  "
      ]
     },
     "execution_count": 8,
     "metadata": {},
     "output_type": "execute_result"
    }
   ],
   "source": [
    "# Buffer point\n",
    "arcpy.Buffer_analysis(point_name, f'{point_name}_{buffer_distance}ft', buffer_distance)\n",
    "\n",
    "# Create a temp layer to find which LAS files to download\n",
    "arcpy.Intersect_analysis ([f'{point_name}_{buffer_distance}ft', las_grid], \"temp\")\n",
    "\n",
    "# Find URLs and download them and use laszip64.exe to convert \n",
    "cursor = arcpy.da.SearchCursor(\"temp\", ['ftppath', 'LASVersion', 'Year'])\n",
    "i = 0\n",
    "las_names = []\n",
    "for row in cursor:\n",
    "    url = row[0]\n",
    "    name = url[-12:]\n",
    "    las_names.append(f'{lidar}{url[-12:-4]}.las')\n",
    "    print(las_names[i])\n",
    "    urlretrieve(url, f'{downloads}{name}')\n",
    "    print(f'{las_tools} -i {downloads}{name} -o {las_names[i]}')\n",
    "    completed = subprocess.run(f'{las_tools} -i {downloads}{name} -o {las_names[i]}', shell=True, stdout=subprocess.PIPE)\n",
    "    subprocess.check_call(f'{las_tools} -i {downloads}{name} -o {las_names[i]}', stdout=subprocess.PIPE)\n",
    "    print(completed.stdout.decode('UTF-8'))\n",
    "    i += 1\n",
    "    \n",
    "# Check for output\n",
    "print(f'Creating LAS dataset from {las_names}')\n",
    "\n",
    "# Create LAS dataset\n",
    "arcpy.CreateLasDataset_management (las_names, las_dataset, \"#\", \"#\", spatial_reference, True, True)\n",
    "\n",
    "arcpy.LasDatasetStatistics_management (las_dataset, \"#\", f'{out_directory}{project}\\\\stats.csv', \"#\", \"#\", \"#\")\n",
    "with open(f'{out_directory}{project}\\\\stats.csv', encoding='utf-8') as csv:\n",
    "    reader = pd.read_csv(csv)\n",
    "    # Create pandas data frame that\n",
    "    pdData = pd.DataFrame(reader)\n",
    "\n",
    "pdData[pdData[\"Category\"] == \"ClassCodes\"]"
   ]
  },
  {
   "cell_type": "markdown",
   "metadata": {},
   "source": [
    "# Decide which class codes to add/change"
   ]
  },
  {
   "cell_type": "code",
   "execution_count": 9,
   "metadata": {},
   "outputs": [
    {
     "name": "stdout",
     "output_type": "stream",
     "text": [
      "['N089E132']\n"
     ]
    },
    {
     "data": {
      "text/plain": [
       "'z:\\\\BoydsGIS\\\\KYLakes\\\\cumberland\\\\contour_10ft_aoi.zip'"
      ]
     },
     "execution_count": 9,
     "metadata": {},
     "output_type": "execute_result"
    }
   ],
   "source": [
    "# default ground classes\n",
    "las_ground = [2, 9]\n",
    "\n",
    "# Filter for ground points and create DEM and hillshade\n",
    "arcpy.MakeLasDatasetLayer_management (las_dataset, f'{lidar}ground', las_ground)\n",
    "arcpy.LasDatasetToRaster_conversion (f'{lidar}ground', f'{project}_dem_5ft', \"#\", \"#\", \"#\", \"#\", 5)\n",
    "arcpy.HillShade_3d(f'{project}_dem_5ft', f'{project}_hillshade', 270, 55)\n",
    "\n",
    "# Create a temp layer to find which NAIP files to download\n",
    "arcpy.RasterDomain_3d (f'{project}_hillshade', 'domain', 'POLYGON')\n",
    "arcpy.Intersect_analysis (['domain', naip_grid], \"temp\")\n",
    "\n",
    "# Find URLs, download them and extract \n",
    "cursor = arcpy.da.SearchCursor(\"temp\", ['ftppath16', 'TileName'])\n",
    "i = 0\n",
    "naip_names = []\n",
    "for row in cursor:\n",
    "    url = row[0]\n",
    "    name = row[1]\n",
    "    naip_names.append(name)\n",
    "    print(naip_names)\n",
    "    urlretrieve(url, f'{downloads}{name}.zip')\n",
    "    with ZipFile(f'{downloads}{name}.zip', 'r') as zip: \n",
    "        zip.extractall(f'{downloads}{name}') \n",
    "    arcpy.CopyRaster_management (f'{downloads}{name}\\\\{naip_prefix}{name}.jpg', name)\n",
    "    i += 1\n",
    "    \n",
    "# If multiple NAIPs, then mosaic to new raster and clip\n",
    "arcpy.Delete_management (f'{out_directory}{project}\\\\{out_geodb}\\\\temp')\n",
    "if len(naip_names) > 1:\n",
    "    arcpy.MosaicToNewRaster_management (naip_names, out_path, \"temp\", None, \"8_BIT_UNSIGNED\", None, 3)\n",
    "    arcpy.Clip_management ('temp', '#', f'{project}_naip', 'domain')\n",
    "else:\n",
    "    arcpy.Clip_management (naip_names[0], '#', f'{project}_naip', 'domain')\n",
    "arcpy.Delete_management (f'{out_directory}{project}\\\\{out_geodb}\\\\temp')    \n",
    "\n",
    "# Extract LAS points in buffer and colorize\n",
    "arcpy.ExtractLas_3d (las_dataset, f'{lidar_extract}', f'{point_name}_{buffer_distance}ft', \"#\", \"#\", \"_extract\", \"#\", \"#\", False, f'{lidar_extract}temp.lasd')\n",
    "arcpy.ColorizeLas_3d (f'{lidar_extract}temp.lasd', f'{project}_naip', 'RED Band_1; GREEN Band_2; BLUE Band_3', lidar_color, \"_color\", \"#\",  \"#\",  \"#\",  \"#\", True, f'{lidar_color}{project}_rgb.lasd')\n",
    "\n",
    "# Create DSM of cliffs over 30 feet in 30-ft diameter neighborhood from bare-earth DEM\n",
    "neighborhood = arcpy.sa.NbrCircle(3,'CELL')\n",
    "outFocalStat = arcpy.sa.FocalStatistics(f'{project}_dem_5ft', neighborhood, \"RANGE\")\n",
    "outFocalStat.save(\"focal_stats_30ft\")\n",
    "cliffs_over_30ft = arcpy.sa.Con(outFocalStat > 30, outFocalStat)\n",
    "cliffs_over_30ft.save(\"cliffs_over_30ft\")\n",
    "\n",
    "# Create contours\n",
    "neighborhood = arcpy.sa.NbrCircle(5,'CELL')\n",
    "outFocalStat = arcpy.sa.FocalStatistics(f'{project}_dem_5ft', neighborhood, \"MEAN\")\n",
    "outFocalStat.save(\"avg_elev_30ft\")\n",
    "arcpy.Contour_3d (\"avg_elev_30ft\", contour_name, contour_interval)\n",
    "\n",
    "# Create Index contours\n",
    "code_block = \"\"\"\n",
    "def is_index_contour(x):\n",
    "    if x%contour_index == 0:\n",
    "        return 1\n",
    "    else:\n",
    "        return 0\n",
    "\"\"\"     \n",
    "arcpy.AddField_management (contour_name, \"index\", \"SHORT\")        \n",
    "arcpy.CalculateField_management(contour_name, \"index\", \"is_index_contour(!CONTOUR!)\", \"PYTHON3\", code_block)\n",
    "\n",
    "# Clip and zip contours for Mapbox\n",
    "arcpy.Clip_analysis (contour_name, f'{point_name}_{buffer_distance}ft', f'{out_directory}{project}\\\\{out_shp}\\\\{contour_name}_aoi.shp')\n",
    "shutil.make_archive(f\"{out_directory}{project}\\\\{contour_name}_aoi\", 'zip', f'{out_directory}{project}\\\\{out_shp}\\\\')"
   ]
  },
  {
   "cell_type": "code",
   "execution_count": null,
   "metadata": {},
   "outputs": [],
   "source": []
  }
 ],
 "metadata": {
  "kernelspec": {
   "display_name": "Python 3",
   "language": "python",
   "name": "python3"
  },
  "language_info": {
   "codemirror_mode": {
    "name": "ipython",
    "version": 3
   },
   "file_extension": ".py",
   "mimetype": "text/x-python",
   "name": "python",
   "nbconvert_exporter": "python",
   "pygments_lexer": "ipython3",
   "version": "3.6.5"
  }
 },
 "nbformat": 4,
 "nbformat_minor": 2
}
